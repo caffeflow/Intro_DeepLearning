{
 "cells": [
  {
   "cell_type": "markdown",
   "metadata": {},
   "source": [
    "python 3.7\n",
    "\n",
    "---"
   ]
  },
  {
   "cell_type": "markdown",
   "metadata": {},
   "source": [
    "# 2.1冒泡排序\n",
    "\n",
    "---\n",
    "时间复杂度 O(n<sup>2</sup>)\n",
    "\n",
    "原理：通过不断交换“大数”的位置达到排序的目的。因为不断出现的“大数”类似于水泡不断出现，因此形象地称为冒泡算法"
   ]
  },
  {
   "cell_type": "code",
   "execution_count": 26,
   "metadata": {},
   "outputs": [],
   "source": [
    "'''创建一个无序的列表'''\n",
    "import random\n",
    "\n",
    "def random_list(n):\n",
    "    list_ = []\n",
    "    for i in range(n):\n",
    "        list_.append(random.randrange(1000))\n",
    "    return list_"
   ]
  },
  {
   "cell_type": "code",
   "execution_count": 24,
   "metadata": {},
   "outputs": [],
   "source": [
    "'''冒泡排序'''\n",
    "def bubble_sort(list_):\n",
    "    length = len(list_)\n",
    "    if length<=1:\n",
    "        return list_\n",
    "    for i in range(1,length):\n",
    "        for j in range(0,length-i):\n",
    "            if list_[j]>list_[j+1]:\n",
    "                list_[j],list_[j+1] = list_[j+1],list_[j]\n",
    "        print(\"第 %d 轮排序后结果:\" % i)\n",
    "        print(list_)\n",
    "    return list_"
   ]
  },
  {
   "cell_type": "code",
   "execution_count": 25,
   "metadata": {},
   "outputs": [
    {
     "name": "stdout",
     "output_type": "stream",
     "text": [
      "第 1 轮排序后结果:\n",
      "[38, 844, 815, 6, 881]\n",
      "第 2 轮排序后结果:\n",
      "[38, 815, 6, 844, 881]\n",
      "第 3 轮排序后结果:\n",
      "[38, 6, 815, 844, 881]\n",
      "第 4 轮排序后结果:\n",
      "[6, 38, 815, 844, 881]\n"
     ]
    }
   ],
   "source": [
    "'''测试'''\n",
    "list_ = random_list(5)\n",
    "list_new = bubble_sort(list_)"
   ]
  },
  {
   "cell_type": "markdown",
   "metadata": {},
   "source": [
    "# 2.2选择排序\n",
    "\n",
    "---\n",
    "时间复杂度 O(n<sup>2</sup>)\n",
    "\n",
    "原理：在数列中不断找最小(大)的数"
   ]
  },
  {
   "cell_type": "code",
   "execution_count": 34,
   "metadata": {},
   "outputs": [],
   "source": [
    "'''创建一个无序的列表'''\n",
    "import random\n",
    "\n",
    "def random_list(n):\n",
    "    list_ = []\n",
    "    for i in range(n):\n",
    "        list_.append(random.randrange(1000))\n",
    "    return list_"
   ]
  },
  {
   "cell_type": "code",
   "execution_count": 39,
   "metadata": {},
   "outputs": [],
   "source": [
    "'''选择排序'''\n",
    "def select_sort(listi):\n",
    "    length = len(listi)\n",
    "    if length <= 1 :\n",
    "        return listi\n",
    "    \n",
    "    for i in range(0,length-1):\n",
    "        j = listi.index(min(listi[i+1:]))\n",
    "        if listi[i] > listi[j]:\n",
    "            listi[i],listi[j] = listi[j],listi[i]\n",
    "        print(\"第%d轮排序结果：\"%(i+1),end=\"\") \n",
    "        print(listi)\n",
    "    return listi    "
   ]
  },
  {
   "cell_type": "code",
   "execution_count": 40,
   "metadata": {},
   "outputs": [
    {
     "name": "stdout",
     "output_type": "stream",
     "text": [
      "第1轮排序结果：[92, 954, 556, 991, 933]\n",
      "第2轮排序结果：[92, 556, 954, 991, 933]\n",
      "第3轮排序结果：[92, 556, 933, 991, 954]\n",
      "第4轮排序结果：[92, 556, 933, 954, 991]\n"
     ]
    }
   ],
   "source": [
    "'''测试'''\n",
    "listi = random_list(5)\n",
    "listi_new = select_sort(listi)"
   ]
  },
  {
   "cell_type": "markdown",
   "metadata": {},
   "source": [
    "# 插入排序\n",
    "---\n"
   ]
  },
  {
   "cell_type": "code",
   "execution_count": null,
   "metadata": {},
   "outputs": [],
   "source": []
  }
 ],
 "metadata": {
  "kernelspec": {
   "display_name": "Python 3",
   "language": "python",
   "name": "python3"
  },
  "language_info": {
   "codemirror_mode": {
    "name": "ipython",
    "version": 3
   },
   "file_extension": ".py",
   "mimetype": "text/x-python",
   "name": "python",
   "nbconvert_exporter": "python",
   "pygments_lexer": "ipython3",
   "version": "3.7.1"
  }
 },
 "nbformat": 4,
 "nbformat_minor": 4
}
